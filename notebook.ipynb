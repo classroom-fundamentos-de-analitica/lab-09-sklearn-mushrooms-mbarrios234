{
 "cells": [
  {
   "cell_type": "code",
   "execution_count": 1,
   "metadata": {},
   "outputs": [
    {
     "name": "stderr",
     "output_type": "stream",
     "text": [
      "C:\\Users\\marab\\AppData\\Local\\Temp\\ipykernel_118556\\3162409723.py:11: FutureWarning: Downcasting behavior in `replace` is deprecated and will be removed in a future version. To retain the old behavior, explicitly call `result.infer_objects(copy=False)`. To opt-in to the future behavior, set `pd.set_option('future.no_silent_downcasting', True)`\n",
      "  train_dataset['type'] = train_dataset['type'].replace({'e':1,'p':0})\n",
      "C:\\Users\\marab\\AppData\\Local\\Temp\\ipykernel_118556\\3162409723.py:12: FutureWarning: Downcasting behavior in `replace` is deprecated and will be removed in a future version. To retain the old behavior, explicitly call `result.infer_objects(copy=False)`. To opt-in to the future behavior, set `pd.set_option('future.no_silent_downcasting', True)`\n",
      "  test_dataset['type'] = test_dataset['type'].replace({'e':1,'p':0})\n"
     ]
    }
   ],
   "source": [
    "import pandas as pd\n",
    "import numpy as np\n",
    "from sklearn.metrics import accuracy_score\n",
    "from sklearn.linear_model import LogisticRegression\n",
    "from sklearn.model_selection import train_test_split\n",
    "from sklearn.ensemble import RandomForestClassifier\n",
    "\n",
    "train_dataset = pd.read_csv('train_dataset.csv')\n",
    "test_dataset = pd.read_csv('test_dataset.csv')\n",
    "\n",
    "train_dataset['type'] = train_dataset['type'].replace({'e':1,'p':0})\n",
    "test_dataset['type'] = test_dataset['type'].replace({'e':1,'p':0})\n",
    "\n"
   ]
  },
  {
   "cell_type": "code",
   "execution_count": 2,
   "metadata": {},
   "outputs": [
    {
     "name": "stdout",
     "output_type": "stream",
     "text": [
      "1.0 1.0\n",
      "              precision    recall  f1-score   support\n",
      "\n",
      "           0       1.00      1.00      1.00      2926\n",
      "           1       1.00      1.00      1.00      3167\n",
      "\n",
      "    accuracy                           1.00      6093\n",
      "   macro avg       1.00      1.00      1.00      6093\n",
      "weighted avg       1.00      1.00      1.00      6093\n",
      "\n",
      "              precision    recall  f1-score   support\n",
      "\n",
      "           0       1.00      1.00      1.00       990\n",
      "           1       1.00      1.00      1.00      1041\n",
      "\n",
      "    accuracy                           1.00      2031\n",
      "   macro avg       1.00      1.00      1.00      2031\n",
      "weighted avg       1.00      1.00      1.00      2031\n",
      "\n"
     ]
    }
   ],
   "source": [
    "train_dataset = pd.get_dummies(train_dataset, dtype=int)\n",
    "\n",
    "test_dataset = pd.get_dummies(test_dataset, dtype=int)\n",
    "\n",
    "x_train = train_dataset.drop(['type','cap_shape_c'], axis=1)\n",
    "y_train = train_dataset[\"type\"]\n",
    "\n",
    "x_test = test_dataset.drop(\"type\", axis=1)\n",
    "y_test = test_dataset[\"type\"]\n",
    "\n",
    "model = RandomForestClassifier()\n",
    "model.fit(x_train, y_train)\n",
    "y_pred_test = model.predict(x_test)\n",
    "y_pred_train = model.predict(x_train)\n",
    "\n",
    "accuracy_train = accuracy_score(y_train, y_pred_train)\n",
    "accuracy_test =accuracy_score(y_test, y_pred_test) \n",
    "\n",
    "print(accuracy_test, accuracy_train)\n",
    "\n",
    "import pickle\n",
    "with open(\"model.pkl\", \"wb\") as file:\n",
    "    pickle.dump(model, file)\n",
    "\n",
    "from sklearn.metrics import classification_report\n",
    "\n",
    "print(classification_report(y_train, y_pred_train))\n",
    "\n",
    "print(classification_report(y_test, y_pred_test))"
   ]
  }
 ],
 "metadata": {
  "kernelspec": {
   "display_name": "Python 3",
   "language": "python",
   "name": "python3"
  },
  "language_info": {
   "codemirror_mode": {
    "name": "ipython",
    "version": 3
   },
   "file_extension": ".py",
   "mimetype": "text/x-python",
   "name": "python",
   "nbconvert_exporter": "python",
   "pygments_lexer": "ipython3",
   "version": "3.12.2"
  }
 },
 "nbformat": 4,
 "nbformat_minor": 2
}
